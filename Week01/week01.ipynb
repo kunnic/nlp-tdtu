{
 "cells": [
  {
   "cell_type": "code",
   "id": "initial_id",
   "metadata": {
    "collapsed": true,
    "ExecuteTime": {
     "end_time": "2025-08-18T03:56:45.730462Z",
     "start_time": "2025-08-18T03:56:45.724382Z"
    }
   },
   "source": [
    "from underthesea import (\n",
    "    sent_tokenize,\n",
    "    word_tokenize,\n",
    "    pos_tag,\n",
    "    ner\n",
    ")"
   ],
   "outputs": [],
   "execution_count": 10
  },
  {
   "metadata": {},
   "cell_type": "markdown",
   "source": "# Sentence Segmentation",
   "id": "e3a8cffdf0f64625"
  },
  {
   "metadata": {
    "ExecuteTime": {
     "end_time": "2025-08-18T03:53:20.806080Z",
     "start_time": "2025-08-18T03:53:20.467942Z"
    }
   },
   "cell_type": "code",
   "source": [
    "sentence = \"Sàng tiền minh nguyệt quang, nghi thị địa thượng sương, cử đầu vọng minh nguyệt, đê đầu tư cố hương.\"\n",
    "\n",
    "sent_tokenize(sentence)"
   ],
   "id": "be14eda6b91fb195",
   "outputs": [
    {
     "data": {
      "text/plain": [
       "['Sàng tiền minh nguyệt quang, nghi thị địa thượng sương, cử đầu vọng minh nguyệt, đê đầu tư cố hương.']"
      ]
     },
     "execution_count": 5,
     "metadata": {},
     "output_type": "execute_result"
    }
   ],
   "execution_count": 5
  },
  {
   "metadata": {},
   "cell_type": "markdown",
   "source": "# Word Segmentation",
   "id": "639be63bbc1c88f1"
  },
  {
   "metadata": {
    "ExecuteTime": {
     "end_time": "2025-08-18T03:54:43.314819Z",
     "start_time": "2025-08-18T03:54:43.007916Z"
    }
   },
   "cell_type": "code",
   "source": [
    "sentence = \"Minh nguyệt kỉ hà hữu, bá tửu vấn thanh thiên, bất tri thiên thượng cung khuyết, kim mịch thị hà niên\"\n",
    "\n",
    "word_tokenize(sentence)\n"
   ],
   "id": "367bb79e9d2e5766",
   "outputs": [
    {
     "data": {
      "text/plain": [
       "['Minh nguyệt kỉ',\n",
       " 'hà hữu',\n",
       " ',',\n",
       " 'bá',\n",
       " 'tửu vấn',\n",
       " 'thanh thiên',\n",
       " ',',\n",
       " 'bất tri',\n",
       " 'thiên thượng',\n",
       " 'cung khuyết',\n",
       " ',',\n",
       " 'kim mịch',\n",
       " 'thị hà niên']"
      ]
     },
     "execution_count": 8,
     "metadata": {},
     "output_type": "execute_result"
    }
   ],
   "execution_count": 8
  },
  {
   "metadata": {},
   "cell_type": "markdown",
   "source": "# POS",
   "id": "da99327c51e09993"
  },
  {
   "metadata": {
    "ExecuteTime": {
     "end_time": "2025-08-18T03:56:50.216011Z",
     "start_time": "2025-08-18T03:56:50.191619Z"
    }
   },
   "cell_type": "code",
   "source": [
    "sentence = \"Nhật chiếu hương lô sinh tử yên, dao khan bộc bố quải tiền xuyên, phi lưu trực há tam thiên xích, nghi thị Ngân Hà lạc cửu thiên.\"\n",
    "\n",
    "pos_tag(sentence)"
   ],
   "id": "1beed4bf4df76d30",
   "outputs": [
    {
     "data": {
      "text/plain": [
       "[('Nhật', 'Np'),\n",
       " ('chiếu', 'V'),\n",
       " ('hương lô', 'N'),\n",
       " ('sinh tử yên', 'N'),\n",
       " (',', 'CH'),\n",
       " ('dao khan', 'N'),\n",
       " ('bộc bố', 'V'),\n",
       " ('quải', 'V'),\n",
       " ('tiền', 'N'),\n",
       " ('xuyên', 'V'),\n",
       " (',', 'CH'),\n",
       " ('phi lưu trực', 'N'),\n",
       " ('há', 'V'),\n",
       " ('tam thiên xích', 'N'),\n",
       " (',', 'CH'),\n",
       " ('nghi thị Ngân', 'N'),\n",
       " ('Hà lạc', 'V'),\n",
       " ('cửu thiên', 'N'),\n",
       " ('.', 'CH')]"
      ]
     },
     "execution_count": 11,
     "metadata": {},
     "output_type": "execute_result"
    }
   ],
   "execution_count": 11
  },
  {
   "metadata": {},
   "cell_type": "markdown",
   "source": "# Named Entity Recognition",
   "id": "375f123cfb23f89c"
  },
  {
   "metadata": {
    "ExecuteTime": {
     "end_time": "2025-08-18T04:01:05.890280Z",
     "start_time": "2025-08-18T04:01:05.822813Z"
    }
   },
   "cell_type": "code",
   "source": [
    "sentence = \"Thần, Người và Đất Việt là sách nói về lịch sử Việt Nam, không về các thời kỳ cụ thể, mà là về các nhân vật lịch sử, các truyền thuyết và các sự kiện lịch sử quan trọng của Việt Nam bằng góc nhìn khảo cổ học.\"\n",
    "\n",
    "ner(sentence)"
   ],
   "id": "65216633b9b9e1f5",
   "outputs": [
    {
     "data": {
      "text/plain": [
       "[('Thần', 'N', 'B-NP', 'O'),\n",
       " (',', 'CH', 'O', 'O'),\n",
       " ('Người', 'Nc', 'B-NP', 'O'),\n",
       " ('và', 'C', 'O', 'O'),\n",
       " ('Đất Việt', 'Np', 'B-NP', 'B-PER'),\n",
       " ('là', 'V', 'B-VP', 'O'),\n",
       " ('sách', 'N', 'B-NP', 'O'),\n",
       " ('nói', 'V', 'B-VP', 'O'),\n",
       " ('về', 'E', 'B-PP', 'O'),\n",
       " ('lịch sử', 'N', 'B-NP', 'B-LOC'),\n",
       " ('Việt Nam', 'Np', 'B-NP', 'I-LOC'),\n",
       " (',', 'CH', 'O', 'O'),\n",
       " ('không', 'R', 'O', 'O'),\n",
       " ('về', 'V', 'B-VP', 'O'),\n",
       " ('các', 'L', 'B-NP', 'O'),\n",
       " ('thời kỳ', 'N', 'B-NP', 'O'),\n",
       " ('cụ thể', 'A', 'B-AP', 'O'),\n",
       " (',', 'CH', 'O', 'O'),\n",
       " ('mà', 'C', 'O', 'O'),\n",
       " ('là', 'V', 'B-VP', 'O'),\n",
       " ('về', 'V', 'B-VP', 'O'),\n",
       " ('các', 'L', 'B-NP', 'O'),\n",
       " ('nhân vật', 'N', 'B-NP', 'O'),\n",
       " ('lịch sử', 'N', 'B-NP', 'O'),\n",
       " (',', 'CH', 'O', 'O'),\n",
       " ('các', 'L', 'B-NP', 'O'),\n",
       " ('truyền thuyết', 'N', 'B-NP', 'O'),\n",
       " ('và', 'C', 'O', 'O'),\n",
       " ('các', 'L', 'B-NP', 'O'),\n",
       " ('sự kiện', 'N', 'B-NP', 'O'),\n",
       " ('lịch sử', 'N', 'B-NP', 'O'),\n",
       " ('quan trọng', 'A', 'B-AP', 'O'),\n",
       " ('của', 'E', 'B-PP', 'O'),\n",
       " ('Việt Nam', 'Np', 'B-NP', 'B-LOC'),\n",
       " ('bằng', 'E', 'B-PP', 'O'),\n",
       " ('góc', 'N', 'B-NP', 'O'),\n",
       " ('nhìn', 'V', 'B-VP', 'O'),\n",
       " ('khảo cổ học', 'A', 'B-AP', 'O'),\n",
       " ('.', 'CH', 'O', 'O')]"
      ]
     },
     "execution_count": 12,
     "metadata": {},
     "output_type": "execute_result"
    }
   ],
   "execution_count": 12
  },
  {
   "metadata": {
    "ExecuteTime": {
     "end_time": "2025-08-18T04:01:47.714706Z",
     "start_time": "2025-08-18T04:01:47.677980Z"
    }
   },
   "cell_type": "code",
   "source": [
    "sentence = \"Nhật chiếu hương lô sinh tử yên, dao khan bộc bố quải tiền xuyên, phi lưu trực há tam thiên xích, nghi thị Ngân Hà lạc cửu thiên.\"\n",
    "ner(sentence)"
   ],
   "id": "5385c558d2c3d303",
   "outputs": [
    {
     "data": {
      "text/plain": [
       "[('Nhật', 'Np', 'B-NP', 'B-LOC'),\n",
       " ('chiếu', 'V', 'B-VP', 'O'),\n",
       " ('hương lô', 'N', 'B-NP', 'O'),\n",
       " ('sinh tử yên', 'N', 'B-NP', 'O'),\n",
       " (',', 'CH', 'O', 'O'),\n",
       " ('dao khan', 'N', 'B-NP', 'O'),\n",
       " ('bộc bố', 'V', 'B-VP', 'O'),\n",
       " ('quải', 'V', 'B-VP', 'O'),\n",
       " ('tiền', 'N', 'B-NP', 'O'),\n",
       " ('xuyên', 'V', 'B-VP', 'O'),\n",
       " (',', 'CH', 'O', 'O'),\n",
       " ('phi lưu trực', 'N', 'B-NP', 'O'),\n",
       " ('há', 'V', 'B-VP', 'O'),\n",
       " ('tam thiên xích', 'N', 'B-NP', 'O'),\n",
       " (',', 'CH', 'O', 'O'),\n",
       " ('nghi thị Ngân', 'N', 'B-NP', 'O'),\n",
       " ('Hà lạc', 'V', 'B-VP', 'O'),\n",
       " ('cửu thiên', 'N', 'B-NP', 'O'),\n",
       " ('.', 'CH', 'O', 'O')]"
      ]
     },
     "execution_count": 13,
     "metadata": {},
     "output_type": "execute_result"
    }
   ],
   "execution_count": 13
  }
 ],
 "metadata": {
  "kernelspec": {
   "display_name": "Python 3",
   "language": "python",
   "name": "python3"
  },
  "language_info": {
   "codemirror_mode": {
    "name": "ipython",
    "version": 2
   },
   "file_extension": ".py",
   "mimetype": "text/x-python",
   "name": "python",
   "nbconvert_exporter": "python",
   "pygments_lexer": "ipython2",
   "version": "2.7.6"
  }
 },
 "nbformat": 4,
 "nbformat_minor": 5
}
