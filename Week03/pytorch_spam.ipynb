{
 "cells": [
  {
   "cell_type": "code",
   "id": "initial_id",
   "metadata": {
    "collapsed": true,
    "ExecuteTime": {
     "end_time": "2025-09-15T04:35:24.600267Z",
     "start_time": "2025-09-15T04:35:24.373117Z"
    }
   },
   "source": [
    "import torch\n",
    "\n",
    "import torch.nn as nn\n",
    "import torch.optim as optim\n",
    "import torch.nn.functional as F\n",
    "from torchtext.legacy import data"
   ],
   "outputs": [
    {
     "ename": "OSError",
     "evalue": "[WinError 127] The specified procedure could not be found",
     "output_type": "error",
     "traceback": [
      "\u001B[31m---------------------------------------------------------------------------\u001B[39m",
      "\u001B[31mOSError\u001B[39m                                   Traceback (most recent call last)",
      "\u001B[36mCell\u001B[39m\u001B[36m \u001B[39m\u001B[32mIn[2]\u001B[39m\u001B[32m, line 6\u001B[39m\n\u001B[32m      4\u001B[39m \u001B[38;5;28;01mimport\u001B[39;00m\u001B[38;5;250m \u001B[39m\u001B[34;01mtorch\u001B[39;00m\u001B[34;01m.\u001B[39;00m\u001B[34;01moptim\u001B[39;00m\u001B[38;5;250m \u001B[39m\u001B[38;5;28;01mas\u001B[39;00m\u001B[38;5;250m \u001B[39m\u001B[34;01moptim\u001B[39;00m\n\u001B[32m      5\u001B[39m \u001B[38;5;28;01mimport\u001B[39;00m\u001B[38;5;250m \u001B[39m\u001B[34;01mtorch\u001B[39;00m\u001B[34;01m.\u001B[39;00m\u001B[34;01mnn\u001B[39;00m\u001B[34;01m.\u001B[39;00m\u001B[34;01mfunctional\u001B[39;00m\u001B[38;5;250m \u001B[39m\u001B[38;5;28;01mas\u001B[39;00m\u001B[38;5;250m \u001B[39m\u001B[34;01mF\u001B[39;00m\n\u001B[32m----> \u001B[39m\u001B[32m6\u001B[39m \u001B[38;5;28;01mfrom\u001B[39;00m\u001B[38;5;250m \u001B[39m\u001B[34;01mtorchtext\u001B[39;00m\u001B[34;01m.\u001B[39;00m\u001B[34;01mlegacy\u001B[39;00m\u001B[38;5;250m \u001B[39m\u001B[38;5;28;01mimport\u001B[39;00m data\n",
      "\u001B[36mFile \u001B[39m\u001B[32m~\\Desktop\\Code\\NLP\\.venv\\Lib\\site-packages\\torchtext\\__init__.py:18\u001B[39m\n\u001B[32m     15\u001B[39m     _WARN = \u001B[38;5;28;01mFalse\u001B[39;00m\n\u001B[32m     17\u001B[39m \u001B[38;5;66;03m# the following import has to happen first in order to load the torchtext C++ library\u001B[39;00m\n\u001B[32m---> \u001B[39m\u001B[32m18\u001B[39m \u001B[38;5;28;01mfrom\u001B[39;00m\u001B[38;5;250m \u001B[39m\u001B[34;01mtorchtext\u001B[39;00m\u001B[38;5;250m \u001B[39m\u001B[38;5;28;01mimport\u001B[39;00m _extension  \u001B[38;5;66;03m# noqa: F401\u001B[39;00m\n\u001B[32m     20\u001B[39m _TEXT_BUCKET = \u001B[33m\"\u001B[39m\u001B[33mhttps://download.pytorch.org/models/text/\u001B[39m\u001B[33m\"\u001B[39m\n\u001B[32m     22\u001B[39m _CACHE_DIR = os.path.expanduser(os.path.join(_get_torch_home(), \u001B[33m\"\u001B[39m\u001B[33mtext\u001B[39m\u001B[33m\"\u001B[39m))\n",
      "\u001B[36mFile \u001B[39m\u001B[32m~\\Desktop\\Code\\NLP\\.venv\\Lib\\site-packages\\torchtext\\_extension.py:64\u001B[39m\n\u001B[32m     59\u001B[39m     \u001B[38;5;66;03m# This import is for initializing the methods registered via PyBind11\u001B[39;00m\n\u001B[32m     60\u001B[39m     \u001B[38;5;66;03m# This has to happen after the base library is loaded\u001B[39;00m\n\u001B[32m     61\u001B[39m     \u001B[38;5;28;01mfrom\u001B[39;00m\u001B[38;5;250m \u001B[39m\u001B[34;01mtorchtext\u001B[39;00m\u001B[38;5;250m \u001B[39m\u001B[38;5;28;01mimport\u001B[39;00m _torchtext  \u001B[38;5;66;03m# noqa\u001B[39;00m\n\u001B[32m---> \u001B[39m\u001B[32m64\u001B[39m \u001B[43m_init_extension\u001B[49m\u001B[43m(\u001B[49m\u001B[43m)\u001B[49m\n",
      "\u001B[36mFile \u001B[39m\u001B[32m~\\Desktop\\Code\\NLP\\.venv\\Lib\\site-packages\\torchtext\\_extension.py:58\u001B[39m, in \u001B[36m_init_extension\u001B[39m\u001B[34m()\u001B[39m\n\u001B[32m     55\u001B[39m \u001B[38;5;28;01mif\u001B[39;00m \u001B[38;5;129;01mnot\u001B[39;00m _mod_utils.is_module_available(\u001B[33m\"\u001B[39m\u001B[33mtorchtext._torchtext\u001B[39m\u001B[33m\"\u001B[39m):\n\u001B[32m     56\u001B[39m     \u001B[38;5;28;01mraise\u001B[39;00m \u001B[38;5;167;01mImportError\u001B[39;00m(\u001B[33m\"\u001B[39m\u001B[33mtorchtext C++ Extension is not found.\u001B[39m\u001B[33m\"\u001B[39m)\n\u001B[32m---> \u001B[39m\u001B[32m58\u001B[39m \u001B[43m_load_lib\u001B[49m\u001B[43m(\u001B[49m\u001B[33;43m\"\u001B[39;49m\u001B[33;43mlibtorchtext\u001B[39;49m\u001B[33;43m\"\u001B[39;49m\u001B[43m)\u001B[49m\n\u001B[32m     59\u001B[39m \u001B[38;5;66;03m# This import is for initializing the methods registered via PyBind11\u001B[39;00m\n\u001B[32m     60\u001B[39m \u001B[38;5;66;03m# This has to happen after the base library is loaded\u001B[39;00m\n\u001B[32m     61\u001B[39m \u001B[38;5;28;01mfrom\u001B[39;00m\u001B[38;5;250m \u001B[39m\u001B[34;01mtorchtext\u001B[39;00m\u001B[38;5;250m \u001B[39m\u001B[38;5;28;01mimport\u001B[39;00m _torchtext\n",
      "\u001B[36mFile \u001B[39m\u001B[32m~\\Desktop\\Code\\NLP\\.venv\\Lib\\site-packages\\torchtext\\_extension.py:50\u001B[39m, in \u001B[36m_load_lib\u001B[39m\u001B[34m(lib)\u001B[39m\n\u001B[32m     48\u001B[39m \u001B[38;5;28;01mif\u001B[39;00m \u001B[38;5;129;01mnot\u001B[39;00m path.exists():\n\u001B[32m     49\u001B[39m     \u001B[38;5;28;01mreturn\u001B[39;00m \u001B[38;5;28;01mFalse\u001B[39;00m\n\u001B[32m---> \u001B[39m\u001B[32m50\u001B[39m \u001B[43mtorch\u001B[49m\u001B[43m.\u001B[49m\u001B[43mops\u001B[49m\u001B[43m.\u001B[49m\u001B[43mload_library\u001B[49m\u001B[43m(\u001B[49m\u001B[43mpath\u001B[49m\u001B[43m)\u001B[49m\n\u001B[32m     51\u001B[39m \u001B[38;5;28;01mreturn\u001B[39;00m \u001B[38;5;28;01mTrue\u001B[39;00m\n",
      "\u001B[36mFile \u001B[39m\u001B[32m~\\Desktop\\Code\\NLP\\.venv\\Lib\\site-packages\\torch\\_ops.py:1478\u001B[39m, in \u001B[36m_Ops.load_library\u001B[39m\u001B[34m(self, path)\u001B[39m\n\u001B[32m   1473\u001B[39m path = _utils_internal.resolve_library_path(path)\n\u001B[32m   1474\u001B[39m \u001B[38;5;28;01mwith\u001B[39;00m dl_open_guard():\n\u001B[32m   1475\u001B[39m     \u001B[38;5;66;03m# Import the shared library into the process, thus running its\u001B[39;00m\n\u001B[32m   1476\u001B[39m     \u001B[38;5;66;03m# static (global) initialization code in order to register custom\u001B[39;00m\n\u001B[32m   1477\u001B[39m     \u001B[38;5;66;03m# operators with the JIT.\u001B[39;00m\n\u001B[32m-> \u001B[39m\u001B[32m1478\u001B[39m     \u001B[43mctypes\u001B[49m\u001B[43m.\u001B[49m\u001B[43mCDLL\u001B[49m\u001B[43m(\u001B[49m\u001B[43mpath\u001B[49m\u001B[43m)\u001B[49m\n\u001B[32m   1479\u001B[39m \u001B[38;5;28mself\u001B[39m.loaded_libraries.add(path)\n",
      "\u001B[36mFile \u001B[39m\u001B[32m~\\AppData\\Local\\Programs\\Python\\Python311\\Lib\\ctypes\\__init__.py:376\u001B[39m, in \u001B[36mCDLL.__init__\u001B[39m\u001B[34m(self, name, mode, handle, use_errno, use_last_error, winmode)\u001B[39m\n\u001B[32m    373\u001B[39m \u001B[38;5;28mself\u001B[39m._FuncPtr = _FuncPtr\n\u001B[32m    375\u001B[39m \u001B[38;5;28;01mif\u001B[39;00m handle \u001B[38;5;129;01mis\u001B[39;00m \u001B[38;5;28;01mNone\u001B[39;00m:\n\u001B[32m--> \u001B[39m\u001B[32m376\u001B[39m     \u001B[38;5;28mself\u001B[39m._handle = \u001B[43m_dlopen\u001B[49m\u001B[43m(\u001B[49m\u001B[38;5;28;43mself\u001B[39;49m\u001B[43m.\u001B[49m\u001B[43m_name\u001B[49m\u001B[43m,\u001B[49m\u001B[43m \u001B[49m\u001B[43mmode\u001B[49m\u001B[43m)\u001B[49m\n\u001B[32m    377\u001B[39m \u001B[38;5;28;01melse\u001B[39;00m:\n\u001B[32m    378\u001B[39m     \u001B[38;5;28mself\u001B[39m._handle = handle\n",
      "\u001B[31mOSError\u001B[39m: [WinError 127] The specified procedure could not be found"
     ]
    }
   ],
   "execution_count": 2
  }
 ],
 "metadata": {
  "kernelspec": {
   "display_name": "Python 3",
   "language": "python",
   "name": "python3"
  },
  "language_info": {
   "codemirror_mode": {
    "name": "ipython",
    "version": 2
   },
   "file_extension": ".py",
   "mimetype": "text/x-python",
   "name": "python",
   "nbconvert_exporter": "python",
   "pygments_lexer": "ipython2",
   "version": "2.7.6"
  }
 },
 "nbformat": 4,
 "nbformat_minor": 5
}
